{
 "cells": [
  {
   "cell_type": "markdown",
   "metadata": {},
   "source": [
    "# Minimal Strawberry Fields Quantum GAN\n",
    "\n",
    "This notebook demonstrates the simplest possible quantum GAN using Strawberry Fields:\n",
    "- **Generator**: 1 mode, 1 layer, outputs 2D data\n",
    "- **Discriminator**: 1 mode, 1 layer, binary classification\n",
    "- **Data**: Synthetic 2D Gaussian mixture\n",
    "- **Training**: Basic GAN training with clean output\n",
    "\n",
    "This serves as the foundation for building more complex quantum GANs."
   ]
  },
  {
   "cell_type": "markdown",
   "metadata": {},
   "source": [
    "## 1. Setup and Imports"
   ]
  },
  {
   "cell_type": "code",
   "execution_count": 1,
   "metadata": {},
   "outputs": [
    {
     "name": "stdout",
     "output_type": "stream",
     "text": [
      "WARNING:tensorflow:From c:\\Users\\MendMa1\\AppData\\Local\\anaconda3\\envs\\qnncv\\Lib\\site-packages\\keras\\src\\losses.py:2976: The name tf.losses.sparse_softmax_cross_entropy is deprecated. Please use tf.compat.v1.losses.sparse_softmax_cross_entropy instead.\n",
      "\n",
      "Clean training environment initialized\n",
      "Warnings suppressed, ready for quantum training\n",
      "Environment setup complete ✓\n",
      "TensorFlow version: 2.15.0\n"
     ]
    }
   ],
   "source": [
    "# Core imports\n",
    "import numpy as np\n",
    "import matplotlib.pyplot as plt\n",
    "import tensorflow as tf\n",
    "import sys\n",
    "import os\n",
    "\n",
    "# Add src to path\n",
    "sys.path.insert(0, os.path.join(os.path.dirname(os.getcwd()), 'src'))\n",
    "\n",
    "# Import our clean training utilities\n",
    "from utils.warning_suppression import enable_clean_training\n",
    "\n",
    "# Enable clean output\n",
    "enable_clean_training()\n",
    "\n",
    "print(\"Environment setup complete ✓\")\n",
    "print(f\"TensorFlow version: {tf.__version__}\")"
   ]
  },
  {
   "cell_type": "markdown",
   "metadata": {},
   "source": [
    "## 2. Import Quantum Components"
   ]
  },
  {
   "cell_type": "code",
   "execution_count": 2,
   "metadata": {},
   "outputs": [
    {
     "name": "stdout",
     "output_type": "stream",
     "text": [
      "Quantum components imported successfully ✓\n"
     ]
    }
   ],
   "source": [
    "# Import our SF-based quantum components\n",
    "from models.generators.quantum_sf_generator import QuantumSFGenerator\n",
    "from models.discriminators.quantum_sf_discriminator import QuantumSFDiscriminator\n",
    "from training.qgan_sf_trainer import QGANSFTrainer\n",
    "\n",
    "print(\"Quantum components imported successfully ✓\")"
   ]
  },
  {
   "cell_type": "markdown",
   "metadata": {},
   "source": [
    "## 3. Create Synthetic 2D Data"
   ]
  },
  {
   "cell_type": "code",
   "execution_count": 3,
   "metadata": {},
   "outputs": [
    {
     "name": "stdout",
     "output_type": "stream",
     "text": [
      "Data created: (500, 2)\n",
      "Data range: [-0.839, 1.000]\n"
     ]
    }
   ],
   "source": [
    "def create_simple_2d_data(n_samples=500):\n",
    "    \"\"\"\n",
    "    Create simple 2D Gaussian mixture for testing.\n",
    "    \"\"\"\n",
    "    np.random.seed(42)\n",
    "    \n",
    "    # Two Gaussian clusters\n",
    "    cluster1 = np.random.normal([1.0, 1.0], 0.3, (n_samples//2, 2))\n",
    "    cluster2 = np.random.normal([-1.0, -1.0], 0.3, (n_samples//2, 2))\n",
    "    \n",
    "    data = np.vstack([cluster1, cluster2])\n",
    "    \n",
    "    # Normalize to [-1, 1] range for quantum stability\n",
    "    data = data / np.max(np.abs(data))\n",
    "    \n",
    "    return tf.constant(data, dtype=tf.float32)\n",
    "\n",
    "# Generate data\n",
    "real_data = create_simple_2d_data(n_samples=500)\n",
    "\n",
    "print(f\"Data created: {real_data.shape}\")\n",
    "print(f\"Data range: [{tf.reduce_min(real_data):.3f}, {tf.reduce_max(real_data):.3f}]\")\n",
    "\n",
    "# Visualize data\n",
    "plt.figure(figsize=(8, 6))\n",
    "plt.scatter(real_data[:, 0], real_data[:, 1], alpha=0.6, s=20)\n",
    "plt.title('Training Data: Simple 2D Gaussian Mixture')\n",
    "plt.xlabel('X₁')\n",
    "plt.ylabel('X₂')\n",
    "plt.grid(True, alpha=0.3)\n",
    "plt.axis('equal')\n",
    "plt.show()"
   ]
  },
  {
   "cell_type": "markdown",
   "metadata": {},
   "source": [
    "## 4. Create Minimal Quantum Components\n",
    "\n",
    "We use the existing SF components with minimal settings:\n",
    "- **1 mode**: Simplest quantum system\n",
    "- **1 layer**: Minimal quantum circuit depth\n",
    "- **Small cutoff**: Efficient simulation"
   ]
  },
  {
   "cell_type": "code",
   "execution_count": 5,
   "metadata": {},
   "outputs": [
    {
     "name": "stdout",
     "output_type": "stream",
     "text": [
      "Creating minimal quantum components...\n",
      "✓ Generator created: 5 trainable variables\n",
      "✓ Discriminator created: 9 trainable variables\n",
      "\n",
      "Testing components...\n",
      "✓ Generator test: (2, 2) → (2, 2)\n",
      "✓ Discriminator test: (2, 2) → (2, 1)\n",
      "\n",
      "Minimal quantum components ready!\n"
     ]
    }
   ],
   "source": [
    "print(\"Creating minimal quantum components...\")\n",
    "\n",
    "# Minimal Generator: 1 mode, 1 layer\n",
    "generator = QuantumSFGenerator(\n",
    "    n_modes=2,        # 1 quantum mode (minimal)\n",
    "    latent_dim=2,     # 2D latent input\n",
    "    layers=1,         # 1 quantum layer (minimal)\n",
    "    cutoff_dim=6      # Small cutoff for efficiency\n",
    ")\n",
    "\n",
    "print(f\"✓ Generator created: {len(generator.trainable_variables)} trainable variables\")\n",
    "\n",
    "# Minimal Discriminator: 1 mode, 1 layer\n",
    "discriminator = QuantumSFDiscriminator(\n",
    "    n_modes=1,        # 1 quantum mode (minimal)\n",
    "    input_dim=2,      # 2D input data\n",
    "    layers=1,         # 1 quantum layer (minimal)\n",
    "    cutoff_dim=6      # Small cutoff for efficiency\n",
    ")\n",
    "\n",
    "print(f\"✓ Discriminator created: {len(discriminator.trainable_variables)} trainable variables\")\n",
    "\n",
    "# Test the components\n",
    "print(\"\\nTesting components...\")\n",
    "\n",
    "# Test generator\n",
    "z_test = tf.random.normal([2, 2])\n",
    "gen_samples = generator.generate(z_test)\n",
    "print(f\"✓ Generator test: {z_test.shape} → {gen_samples.shape}\")\n",
    "\n",
    "# Test discriminator\n",
    "disc_output = discriminator.discriminate(gen_samples)\n",
    "print(f\"✓ Discriminator test: {gen_samples.shape} → {disc_output.shape}\")\n",
    "\n",
    "print(\"\\nMinimal quantum components ready!\")"
   ]
  },
  {
   "cell_type": "markdown",
   "metadata": {},
   "source": [
    "## 5. Create Minimal Quantum GAN Trainer"
   ]
  },
  {
   "cell_type": "code",
   "execution_count": 6,
   "metadata": {},
   "outputs": [
    {
     "name": "stdout",
     "output_type": "stream",
     "text": [
      "✓ Minimal QGAN trainer created\n",
      "  Generator parameters: 5\n",
      "  Discriminator parameters: 9\n"
     ]
    }
   ],
   "source": [
    "# Create trainer with conservative settings for minimal components\n",
    "trainer = QGANSFTrainer(\n",
    "    generator=generator,\n",
    "    discriminator=discriminator,\n",
    "    latent_dim=2,\n",
    "    generator_lr=1e-3,      # Higher learning rate for simple system\n",
    "    discriminator_lr=1e-3,  # Matched learning rates\n",
    "    beta1=0.5,\n",
    "    beta2=0.999\n",
    ")\n",
    "\n",
    "print(\"✓ Minimal QGAN trainer created\")\n",
    "print(f\"  Generator parameters: {len(generator.trainable_variables)}\")\n",
    "print(f\"  Discriminator parameters: {len(discriminator.trainable_variables)}\")"
   ]
  },
  {
   "cell_type": "markdown",
   "metadata": {},
   "source": [
    "## 6. Train the Minimal Quantum GAN\n",
    "\n",
    "We train with clean output enabled to focus on the important metrics."
   ]
  },
  {
   "cell_type": "code",
   "execution_count": 7,
   "metadata": {},
   "outputs": [
    {
     "name": "stdout",
     "output_type": "stream",
     "text": [
      "Starting minimal quantum GAN training...\n",
      "(Warning suppression enabled for clean output)\n",
      "Starting SF-based quantum GAN training...\n",
      "Epochs: 10, Batch size: 8\n",
      "Data shape: (500, 2)\n",
      "Warning suppression enabled - clean output mode\n",
      "\n",
      "Training completed in 90.0s\n",
      "Generating final samples...\n",
      "Final sample shape: (10, 2)\n",
      "Final sample range: [-2.168, -1.833]\n",
      "\n",
      "✓ Training completed!\n"
     ]
    }
   ],
   "source": [
    "print(\"Starting minimal quantum GAN training...\")\n",
    "print(\"(Warning suppression enabled for clean output)\")\n",
    "\n",
    "# Train with minimal settings\n",
    "history = trainer.train(\n",
    "    data=real_data,\n",
    "    epochs=10,              # Short training for demonstration\n",
    "    batch_size=8,           # Small batches for quantum stability\n",
    "    verbose=True,\n",
    "    save_interval=2,        # Log every 2 epochs\n",
    "    suppress_warnings=True  # Clean output\n",
    ")\n",
    "\n",
    "print(\"\\n✓ Training completed!\")"
   ]
  },
  {
   "cell_type": "markdown",
   "metadata": {},
   "source": [
    "## 7. Evaluate and Visualize Results"
   ]
  },
  {
   "cell_type": "code",
   "execution_count": null,
   "metadata": {},
   "outputs": [
    {
     "name": "stdout",
     "output_type": "stream",
     "text": [
      "Generated 200 samples for evaluation\n",
      "Generated sample range: [-2.276, -1.711]\n"
     ]
    }
   ],
   "source": [
    "# Generate samples for evaluation\n",
    "n_eval_samples = 200\n",
    "z_eval = tf.random.normal([n_eval_samples, 2])\n",
    "generated_samples = generator.generate(z_eval)\n",
    "\n",
    "print(f\"Generated {n_eval_samples} samples for evaluation\")\n",
    "print(f\"Generated sample range: [{tf.reduce_min(generated_samples):.3f}, {tf.reduce_max(generated_samples):.3f}]\")\n",
    "\n",
    "# Configure matplotlib explicitly\n",
    "%matplotlib inline\n",
    "plt.ion()  # Turn on interactive mode for Jupyter\n",
    "\n",
    "# Create comprehensive visualization\n",
    "fig, axes = plt.subplots(2, 2, figsize=(12, 10))\n",
    "\n",
    "# Generate samples for evaluation\n",
    "n_eval_samples = 200\n",
    "z_eval = tf.random.normal([n_eval_samples, 2])\n",
    "generated_samples = generator.generate(z_eval)\n",
    "\n",
    "print(f\"Generated {n_eval_samples} samples for evaluation\")\n",
    "print(f\"Generated sample range: [{tf.reduce_min(generated_samples):.3f}, {tf.reduce_max(generated_samples):.3f}]\")\n",
    "\n",
    "# Create comprehensive visualization\n",
    "fig, axes = plt.subplots(2, 2, figsize=(12, 10))\n",
    "\n",
    "# 1. Training losses\n",
    "ax1 = axes[0, 0]\n",
    "if 'g_loss' in history and 'd_loss' in history:\n",
    "    epochs = range(len(history['g_loss']))\n",
    "    ax1.plot(epochs, history['g_loss'], label='Generator Loss', color='blue')\n",
    "    ax1.plot(epochs, history['d_loss'], label='Discriminator Loss', color='red')\n",
    "    ax1.set_xlabel('Epoch')\n",
    "    ax1.set_ylabel('Loss')\n",
    "    ax1.set_title('Training Losses')\n",
    "    ax1.legend()\n",
    "    ax1.grid(True, alpha=0.3)\n",
    "\n",
    "# 2. Gradient norms\n",
    "ax2 = axes[0, 1]\n",
    "if 'g_grad_norm' in history and 'd_grad_norm' in history:\n",
    "    epochs = range(len(history['g_grad_norm']))\n",
    "    ax2.plot(epochs, history['g_grad_norm'], label='Generator Gradients', color='blue')\n",
    "    ax2.plot(epochs, history['d_grad_norm'], label='Discriminator Gradients', color='red')\n",
    "    ax2.set_xlabel('Epoch')\n",
    "    ax2.set_ylabel('Gradient Norm')\n",
    "    ax2.set_title('Gradient Evolution')\n",
    "    ax2.legend()\n",
    "    ax2.grid(True, alpha=0.3)\n",
    "    ax2.set_yscale('log')\n",
    "\n",
    "# 3. Real vs Generated Data\n",
    "ax3 = axes[1, 0]\n",
    "ax3.scatter(real_data[:, 0], real_data[:, 1], alpha=0.6, s=20, color='blue', label='Real Data')\n",
    "ax3.scatter(generated_samples[:, 0], generated_samples[:, 1], alpha=0.6, s=20, color='red', label='Generated Data')\n",
    "ax3.set_xlabel('X₁')\n",
    "ax3.set_ylabel('X₂')\n",
    "ax3.set_title('Real vs Generated Data')\n",
    "ax3.legend()\n",
    "ax3.grid(True, alpha=0.3)\n",
    "ax3.axis('equal')\n",
    "\n",
    "# 4. Distribution comparison\n",
    "ax4 = axes[1, 1]\n",
    "ax4.hist(real_data[:, 0].numpy(), bins=20, alpha=0.7, density=True, color='blue', label='Real X₁', histtype='step')\n",
    "ax4.hist(generated_samples[:, 0].numpy(), bins=20, alpha=0.7, density=True, color='red', label='Generated X₁', histtype='step')\n",
    "ax4.set_xlabel('X₁ Value')\n",
    "ax4.set_ylabel('Density')\n",
    "ax4.set_title('Marginal Distribution')\n",
    "ax4.legend()\n",
    "ax4.grid(True, alpha=0.3)\n",
    "\n",
    "plt.tight_layout()\n",
    "plt.suptitle('Minimal Quantum GAN Results', fontsize=16, y=1.02)\n",
    "\n",
    "# Force display in Jupyter\n",
    "plt.show()\n",
    "plt.draw()  # Force drawing\n",
    "from IPython.display import display, clear_output\n",
    "display(fig)  # Explicit display"
   ]
  },
  {
   "cell_type": "markdown",
   "metadata": {},
   "source": [
    "## 8. Compute Quality Metrics"
   ]
  },
  {
   "cell_type": "code",
   "execution_count": 9,
   "metadata": {},
   "outputs": [
    {
     "name": "stdout",
     "output_type": "stream",
     "text": [
      "Evaluating generation quality with 200 samples...\n",
      "Mean difference: 2.8244\n",
      "Std difference: 0.5474\n",
      "\n",
      "==================================================\n",
      "MINIMAL QUANTUM GAN EVALUATION\n",
      "==================================================\n",
      "\n",
      "Generation Quality Metrics:\n",
      "  Mean difference: 2.8244\n",
      "  Std difference: 0.5474\n",
      "\n",
      "Training Summary:\n",
      "  Final Generator Loss: 0.2137\n",
      "  Final Discriminator Loss: 1.8835\n",
      "  Final Stability Metric: 0.0000\n",
      "\n",
      "Quantum Architecture:\n",
      "  Generator: 1 mode, 1 layer\n",
      "  Discriminator: 1 mode, 1 layer\n",
      "  Total Parameters: 14\n",
      "\n",
      "==================================================\n",
      "SUCCESS: Minimal quantum GAN training completed!\n",
      "==================================================\n"
     ]
    }
   ],
   "source": [
    "# Evaluate generation quality\n",
    "quality_metrics = trainer.evaluate_generation_quality(real_data, n_samples=200)\n",
    "\n",
    "print(\"\\n\" + \"=\"*50)\n",
    "print(\"MINIMAL QUANTUM GAN EVALUATION\")\n",
    "print(\"=\"*50)\n",
    "\n",
    "print(f\"\\nGeneration Quality Metrics:\")\n",
    "print(f\"  Mean difference: {quality_metrics['mean_difference']:.4f}\")\n",
    "print(f\"  Std difference: {quality_metrics['std_difference']:.4f}\")\n",
    "\n",
    "print(f\"\\nTraining Summary:\")\n",
    "if 'g_loss' in history and 'd_loss' in history:\n",
    "    print(f\"  Final Generator Loss: {history['g_loss'][-1]:.4f}\")\n",
    "    print(f\"  Final Discriminator Loss: {history['d_loss'][-1]:.4f}\")\n",
    "\n",
    "if 'stability_metric' in history:\n",
    "    print(f\"  Final Stability Metric: {history['stability_metric'][-1]:.4f}\")\n",
    "\n",
    "print(f\"\\nQuantum Architecture:\")\n",
    "print(f\"  Generator: 1 mode, 1 layer\")\n",
    "print(f\"  Discriminator: 1 mode, 1 layer\")\n",
    "print(f\"  Total Parameters: {len(generator.trainable_variables) + len(discriminator.trainable_variables)}\")\n",
    "\n",
    "print(\"\\n\" + \"=\"*50)\n",
    "print(\"SUCCESS: Minimal quantum GAN training completed!\")\n",
    "print(\"=\"*50)"
   ]
  },
  {
   "cell_type": "markdown",
   "metadata": {},
   "source": [
    "## 9. Next Steps and Scaling Up\n",
    "\n",
    "This minimal implementation provides the foundation for building more complex quantum GANs:\n",
    "\n",
    "### Immediate Extensions:\n",
    "1. **Increase modes**: `n_modes=2` for richer quantum correlations\n",
    "2. **Add layers**: `layers=2` for deeper quantum circuits\n",
    "3. **Larger cutoff**: `cutoff_dim=10` for higher precision\n",
    "\n",
    "### Advanced Features:\n",
    "1. **Different datasets**: More complex 2D distributions\n",
    "2. **Quantum metrics**: Entanglement and coherence measures\n",
    "3. **Hardware deployment**: Real quantum device integration\n",
    "\n",
    "### Code Example for Scaling:"
   ]
  },
  {
   "cell_type": "code",
   "execution_count": null,
   "metadata": {},
   "outputs": [],
   "source": [
    "# Example: Scale up to 2 modes, 2 layers\n",
    "print(\"Example scaling to 2 modes, 2 layers:\")\n",
    "\n",
    "# More complex generator\n",
    "generator_v2 = QuantumSFGenerator(\n",
    "    n_modes=2,        # 2 quantum modes\n",
    "    latent_dim=4,     # 4D latent input\n",
    "    layers=2,         # 2 quantum layers\n",
    "    cutoff_dim=8      # Higher precision\n",
    ")\n",
    "\n",
    "# More complex discriminator\n",
    "discriminator_v2 = QuantumSFDiscriminator(\n",
    "    n_modes=2,        # 2 quantum modes\n",
    "    input_dim=2,      # 2D input data\n",
    "    layers=2,         # 2 quantum layers\n",
    "    cutoff_dim=8      # Higher precision\n",
    ")\n",
    "\n",
    "print(f\"✓ Scaled generator: {len(generator_v2.trainable_variables)} parameters\")\n",
    "print(f\"✓ Scaled discriminator: {len(discriminator_v2.trainable_variables)} parameters\")\n",
    "print(f\"  Total increase: {len(generator_v2.trainable_variables) + len(discriminator_v2.trainable_variables) - len(generator.trainable_variables) - len(discriminator.trainable_variables)} parameters\")\n",
    "\n",
    "print(\"\\nReady for more complex quantum GAN experiments!\")"
   ]
  }
 ],
 "metadata": {
  "kernelspec": {
   "display_name": "qnncv",
   "language": "python",
   "name": "python3"
  },
  "language_info": {
   "codemirror_mode": {
    "name": "ipython",
    "version": 3
   },
   "file_extension": ".py",
   "mimetype": "text/x-python",
   "name": "python",
   "nbconvert_exporter": "python",
   "pygments_lexer": "ipython3",
   "version": "3.11.13"
  }
 },
 "nbformat": 4,
 "nbformat_minor": 4
}
